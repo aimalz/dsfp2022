{
 "cells": [
  {
   "cell_type": "markdown",
   "id": "4d492bc3",
   "metadata": {},
   "source": [
    "# Likelihood-free Inference\n",
    "\n",
    "_Alex Malz (LINCC@CMU)_\n",
    "_LSSTC Data Science Fellowship Program_\n",
    "\n"
   ]
  },
  {
   "cell_type": "code",
   "execution_count": null,
   "id": "75bc58e4",
   "metadata": {},
   "outputs": [],
   "source": [
    "# !pip install --quiet jax-cosmo numpyro dm-haiku optax sbi chainconsumer tensorflow-probability numpyro lenstools\n",
    "# !pip install --quiet git+https://github.com/EiffL/powerbox-jax.git"
   ]
  },
  {
   "cell_type": "code",
   "execution_count": null,
   "id": "d5ec6776",
   "metadata": {
    "scrolled": true
   },
   "outputs": [],
   "source": [
    "import jax\n",
    "import jax_cosmo as jc\n",
    "import jax.numpy as jnp\n",
    "\n",
    "import numpyro\n",
    "from numpyro.handlers import seed, trace, condition\n",
    "import numpyro.distributions as dist\n",
    "\n",
    "import tensorflow_probability as tfp; tfp = tfp.substrates.jax\n",
    "tfd = tfp.distributions\n",
    "\n",
    "import haiku as hk\n",
    "seq = hk.PRNGSequence(42)\n",
    "\n",
    "import torch\n",
    "from sbi import utils as utils\n",
    "from sbi import analysis as analysis\n",
    "from sbi.inference.base import infer\n",
    "\n",
    "import powerbox_jax as pbj\n",
    "\n",
    "from chainconsumer import ChainConsumer\n",
    "\n",
    "import lenstools as lt\n",
    "import astropy.units as u"
   ]
  },
  {
   "cell_type": "code",
   "execution_count": null,
   "id": "dfd16129",
   "metadata": {},
   "outputs": [],
   "source": [
    "import matplotlib.pyplot as plt\n",
    "import numpy as np\n",
    "import pickle"
   ]
  },
  {
   "cell_type": "markdown",
   "id": "fe1f44ee",
   "metadata": {},
   "source": [
    "## Theory\n",
    "\n",
    "When explicit likelihoods are unavailable, we can't do MCMC sampling, so we need alternatives.\n",
    "Those that use an _implicit_ likelihood, in the form of any process that takes in the parameters we want to constrain and outputs realizations of data, form a family of closely related methods called Likelihood-free Inference (LFI), which may also be referred to as Simulation-based Inference (SBI) and which includes Approximate Bayesian Computation (ABC).\n",
    "\n",
    "![overview](01_algorithms_tikz.png \"terminology\")\n",
    "\n",
    "This diagram from [Lueckmann+ 2021](https://arxiv.org/abs/2101.04653), via [Lanusse 2022](https://eiffl.github.io/talks/EAS2022/), illustrates the nuances between terminology for these methods, which seem to change every few years, but the principle behind them is the same.\n",
    "Instead of evaluating the likelihood of proposed parameters, a black-box implicit likelihood, typically a simulator or emulator, is used to forward-model mock data that is then compared with the real data.\n",
    "In both approaches, sampled parameters that are accepted are used to generate subsequent samples. \n",
    "\n",
    "## Context\n",
    "\n",
    "Let's try to learn the cosmological parameters from summary statistics of weak lensing mass maps, with and without using the likelihood.\n",
    "This problem is distilled from [a tutorial](https://colab.research.google.com/drive/1K8cB1h3ge3kTVut81Xnkw2kNiKFIn8HI?usp=sharing) by Francois Lanusse."
   ]
  },
  {
   "cell_type": "markdown",
   "id": "faf6ce61",
   "metadata": {},
   "source": [
    "## LensingForwardModelLogNormal"
   ]
  },
  {
   "cell_type": "code",
   "execution_count": null,
   "id": "90b76957",
   "metadata": {},
   "outputs": [],
   "source": [
    "def make_power_map(pk_fn, N, field_size, zero_freq_val=0.0):\n",
    "    k = 2*jnp.pi*jnp.fft.fftfreq(N, d=field_size / N)\n",
    "    kcoords = jnp.meshgrid(k,k)\n",
    "    k = jnp.sqrt(kcoords[0]**2 + kcoords[1]**2)\n",
    "    ps_map = pk_fn(k)\n",
    "    ps_map = ps_map.at[0,0].set(zero_freq_val)\n",
    "    return ps_map * (N / field_size)**2\n",
    "\n",
    "def make_lognormal_power_map(power_map, shift, zero_freq_val=0.0):\n",
    "    power_spectrum_for_lognorm = jnp.fft.ifft2(power_map).real\n",
    "    power_spectrum_for_lognorm = jnp.log(1 + power_spectrum_for_lognorm/shift**2)\n",
    "    power_spectrum_for_lognorm = jnp.abs(jnp.fft.fft2(power_spectrum_for_lognorm))\n",
    "    power_spectrum_for_lognorm = power_spectrum_for_lognorm.at[0,0].set(0.)\n",
    "    return power_spectrum_for_lognorm\n",
    "\n",
    "def model(N=128,               # number of pixels on the map\n",
    "          map_size=10,         # map size in deg.\n",
    "          gal_per_arcmin2=10,   \n",
    "          sigma_e=0.2, \n",
    "          shift=0.05,\n",
    "          model_type='lognormal'): # either 'lognormal' or 'gaussian'      \n",
    "    \n",
    "    pix_area = (map_size * 60 / N)**2 # arcmin2 \n",
    "    map_size = map_size / 180 * jnp.pi    # radians\n",
    "\n",
    "    # Sampling cosmology\n",
    "    omega_c = numpyro.sample('omega_c', dist.Normal(0., 1.0)) * 0.05 + 0.3\n",
    "    sigma_8 = numpyro.sample('sigma_8', dist.Normal(0., 1.0)) * 0.05 + 0.8\n",
    "    \n",
    "    cosmo = jc.Planck15(Omega_c=omega_c, sigma8=sigma_8)\n",
    "    # Creating a given redshift distribution\n",
    "    pz = jc.redshift.smail_nz(0.5, 2., 1.0)\n",
    "    tracer = jc.probes.WeakLensing([pz])\n",
    "    \n",
    "    # Defining the function that will compute the power spectrum of the field\n",
    "    # Create an interpolation array for the cls to avoid far too many computations\n",
    "    ell_tab = jnp.logspace(0, 4.5, 128)\n",
    "    cell_tab = jc.angular_cl.angular_cl(cosmo, ell_tab, [tracer])[0]\n",
    "    P = lambda k: jc.scipy.interpolate.interp(k.flatten(), ell_tab, cell_tab).reshape(k.shape)\n",
    "    \n",
    "    # Sampling latent variables\n",
    "    z = numpyro.sample('z', dist.MultivariateNormal(loc=jnp.zeros((N,N)), precision_matrix=jnp.eye(N)))\n",
    "\n",
    "    # Convolving by the power spectrum\n",
    "    power_map = make_power_map(P, N, map_size) \n",
    "    if model_type == 'lognormal':\n",
    "        power_map =  make_lognormal_power_map(power_map, shift)\n",
    "\n",
    "    field = jnp.fft.ifft2(jnp.fft.fft2(z) * jnp.sqrt(power_map)).real\n",
    "\n",
    "    if model_type == 'lognormal':\n",
    "        field = shift * (jnp.exp(field - jnp.var(field) / 2) - 1)\n",
    "\n",
    "    # Adding \"observational noise\"\n",
    "    x = numpyro.sample('x', dist.Independent(dist.Normal(field, sigma_e/jnp.sqrt(gal_per_arcmin2 * pix_area)), 2))\n",
    "    \n",
    "    return x"
   ]
  },
  {
   "cell_type": "code",
   "execution_count": null,
   "id": "67a74458",
   "metadata": {},
   "outputs": [],
   "source": [
    "# Create our fiducial observations\n",
    "fiducial_model = condition(model, {'omega_c': 0., 'sigma_8': 0.})\n",
    "sample_map_fiducial = seed(fiducial_model, jax.random.PRNGKey(42))\n",
    "m_data = sample_map_fiducial()"
   ]
  },
  {
   "cell_type": "code",
   "execution_count": null,
   "id": "cc6c6f6c",
   "metadata": {},
   "outputs": [],
   "source": [
    "plt.imshow(m_data, extent=(0,10,0,10))\n",
    "plt.colorbar()"
   ]
  },
  {
   "cell_type": "code",
   "execution_count": null,
   "id": "484d8b53",
   "metadata": {},
   "outputs": [],
   "source": [
    "other_m_data = sample_map_fiducial()\n",
    "plt.imshow(other_m_data, extent=(0,10,0,10))\n",
    "plt.colorbar()"
   ]
  },
  {
   "cell_type": "code",
   "execution_count": null,
   "id": "dbba574b",
   "metadata": {},
   "outputs": [],
   "source": [
    "# Checking that the power spectrum looks ok with Lenstools\n",
    "cosmo = jc.Planck15(Omega_c=0.3, sigma8=0.8)\n",
    "# Creating a given redshift distribution\n",
    "pz = jc.redshift.smail_nz(0.5, 2., 1.0)\n",
    "tracer = jc.probes.WeakLensing([pz])\n",
    "\n",
    "kmap_lt = lt.ConvergenceMap(m_data, 10*u.deg)\n",
    "l_edges = np.arange(100.0,3000.0,100.0)\n",
    "l2,Pl2 = kmap_lt.powerSpectrum(l_edges)\n",
    "\n",
    "cell = jc.angular_cl.angular_cl(cosmo, l2, [tracer])[0]\n",
    "plt.plot(l2, cell, label='Theory')\n",
    "plt.plot(l2, Pl2)\n",
    "plt.loglog()\n",
    "plt.legend()\n",
    "\n",
    "# yikes, it doesn't look good at all"
   ]
  },
  {
   "cell_type": "code",
   "execution_count": null,
   "id": "073da657",
   "metadata": {},
   "outputs": [],
   "source": [
    "# Now we condition the model on obervations\n",
    "observed_model = condition(model, {'x': m_data})"
   ]
  },
  {
   "cell_type": "markdown",
   "id": "8a09b84d",
   "metadata": {},
   "source": [
    "### Problem 0\n",
    "\n",
    "MCMC sample this -- __NOT!__"
   ]
  },
  {
   "cell_type": "code",
   "execution_count": null,
   "id": "2c9d4aea",
   "metadata": {},
   "outputs": [],
   "source": [
    "# nuts_kernel = numpyro.infer.NUTS(observed_model,\n",
    "#                                  init_strategy=numpyro.infer.init_to_median,\n",
    "#                                  max_tree_depth=6,\n",
    "#                                  step_size=0.02)"
   ]
  },
  {
   "cell_type": "code",
   "execution_count": null,
   "id": "f5893831",
   "metadata": {},
   "outputs": [],
   "source": [
    "# mcmc = numpyro.infer.MCMC(nuts_kernel, \n",
    "#                           num_warmup=100, \n",
    "#                           num_samples=1000)"
   ]
  },
  {
   "cell_type": "code",
   "execution_count": null,
   "id": "24f0d8ec",
   "metadata": {},
   "outputs": [],
   "source": [
    "# # very slow on CPU (hours), might be faster on GPU (hour)\n",
    "# mcmc.run(jax.random.PRNGKey(3))"
   ]
  },
  {
   "cell_type": "code",
   "execution_count": null,
   "id": "7f892c66",
   "metadata": {},
   "outputs": [],
   "source": [
    "# res = mcmc.get_samples()\n",
    "\n",
    "# # # Saving the trace\n",
    "# # with open('lensing_fwd_mdl_lognorm.pickle', 'wb') as handle:\n",
    "# #     pickle.dump(res, handle, protocol=pickle.HIGHEST_PROTOCOL)\n",
    "    \n",
    "# # with open('lensing_fwd_mdl_lognorm.pickle', 'rb') as handle:\n",
    "# #     res = pickle.load(handle, protocol=pickle.HIGHEST_PROTOCOL)"
   ]
  },
  {
   "cell_type": "code",
   "execution_count": null,
   "id": "6d229e1d",
   "metadata": {},
   "outputs": [],
   "source": [
    "# plt.figure(figsize=[10,10])\n",
    "# plt.scatter(res['omega_c']* 0.05 + 0.3, res['sigma_8']* 0.05 + 0.8, c=arange(len(res['sigma_8'])));\n",
    "# plt.axvline(0.3)\n",
    "# plt.axhline(0.8)\n",
    "# plt.xlabel('Omega_c')\n",
    "# plt.ylabel('sigma_8')"
   ]
  },
  {
   "cell_type": "code",
   "execution_count": null,
   "id": "12634cfa",
   "metadata": {},
   "outputs": [],
   "source": [
    "# plt.imshow(res['z'].mean(axis=0),vmin=-4,vmax=4); colorbar()"
   ]
  },
  {
   "cell_type": "code",
   "execution_count": null,
   "id": "993f006f",
   "metadata": {},
   "outputs": [],
   "source": [
    "# conditional_model = condition(model, {'z': res['z'].mean(axis=0), 'omega_c': 0., 'sigma_8': 0.})"
   ]
  },
  {
   "cell_type": "code",
   "execution_count": null,
   "id": "7fb7b8f7",
   "metadata": {},
   "outputs": [],
   "source": [
    "# sample_map_rec = seed(conditional_model, jax.random.PRNGKey(2))\n",
    "# m_data_rec = sample_map_rec()"
   ]
  },
  {
   "cell_type": "code",
   "execution_count": null,
   "id": "c58d7636",
   "metadata": {},
   "outputs": [],
   "source": [
    "# plt.imshow(m_data_rec)"
   ]
  },
  {
   "cell_type": "code",
   "execution_count": null,
   "id": "e1f02dba",
   "metadata": {},
   "outputs": [],
   "source": [
    "# model_trace = trace(sample_map_rec).get_trace()"
   ]
  },
  {
   "cell_type": "code",
   "execution_count": null,
   "id": "820a6ddb",
   "metadata": {},
   "outputs": [],
   "source": [
    "# plt.imshow(model_trace['x']['fn'].mean)"
   ]
  },
  {
   "cell_type": "markdown",
   "id": "042454d7",
   "metadata": {},
   "source": [
    "## DemoSBI"
   ]
  },
  {
   "cell_type": "code",
   "execution_count": null,
   "id": "5e069222",
   "metadata": {},
   "outputs": [],
   "source": [
    "cosmo = jc.Planck15()                  # Create a cosmology with default parameters\n",
    "nz = jc.redshift.smail_nz(1., 2,  0.75, \n",
    "                  gals_per_arcmin2=6)  # Create a Smail redshift distribution\n",
    "tracer = jc.probes.WeakLensing([nz])   # Define a lensing probe\n",
    "\n",
    "# Let's build an array of parameters \n",
    "fid_params = np.array([cosmo.Omega_c, cosmo.sigma8]) \n",
    "\n",
    "# An array of ells\n",
    "ell = jnp.logspace(2, np.log10(2_000), 20)\n",
    "\n",
    "# Computing the mean and covariance matrix for this cosmology and this tracer\n",
    "mu, cov = jc.angular_cl.gaussian_cl_covariance_and_mean(cosmo, ell, [tracer], f_sky=0.125);"
   ]
  },
  {
   "cell_type": "code",
   "execution_count": null,
   "id": "16551d8e",
   "metadata": {},
   "outputs": [],
   "source": [
    "# Let's define a function that will sample a Cl for a given cosmology\n",
    "@jax.jit\n",
    "def sample_likelihood(params, key):\n",
    "    cosmo = jc.Planck15(Omega_c=params[0], sigma8=params[1])\n",
    "    mu = jc.angular_cl.angular_cl(cosmo, ell, [tracer]).flatten() \n",
    "    dist = tfd.MultivariateNormalDiag(loc=mu, \n",
    "                                    scale_diag=jnp.sqrt(jnp.diag(cov)))\n",
    "    return dist.sample(seed=key)"
   ]
  },
  {
   "cell_type": "code",
   "execution_count": null,
   "id": "d53c155d",
   "metadata": {},
   "outputs": [],
   "source": [
    "# Draw measured cls for different seeds at the fiducial cosmology\n",
    "plt.plot(ell, sample_likelihood(fid_params, jax.random.PRNGKey(0)))\n",
    "plt.plot(ell, sample_likelihood(fid_params, jax.random.PRNGKey(1)))\n",
    "plt.plot(ell, sample_likelihood(fid_params, jax.random.PRNGKey(2)))\n",
    "plt.loglog()\n",
    "\n",
    "plt.plot(ell, mu, '--')"
   ]
  },
  {
   "cell_type": "code",
   "execution_count": null,
   "id": "c42a88e3",
   "metadata": {},
   "outputs": [],
   "source": [
    "num_dim = 2\n",
    "prior = utils.BoxUniform(low=0.1 * torch.ones(num_dim), high=1 * torch.ones(num_dim))\n",
    "\n",
    "def simulator(parameter_set):\n",
    "    return sample_likelihood(parameter_set.cpu().detach().numpy(), next(seq)).to_py()"
   ]
  },
  {
   "cell_type": "markdown",
   "id": "4d17fb50",
   "metadata": {},
   "source": [
    "We can use this canned SBI package to  perform the inference, but "
   ]
  },
  {
   "cell_type": "code",
   "execution_count": null,
   "id": "cfca433a",
   "metadata": {},
   "outputs": [],
   "source": [
    "#takes minutes on laptop\n",
    "posterior = infer(simulator, prior, method=\"SNPE\", num_simulations=1000)"
   ]
  },
  {
   "cell_type": "code",
   "execution_count": null,
   "id": "20516480",
   "metadata": {},
   "outputs": [],
   "source": [
    "observation = sample_likelihood(fid_params, jax.random.PRNGKey(0)).to_py()"
   ]
  },
  {
   "cell_type": "code",
   "execution_count": null,
   "id": "b02a1e13",
   "metadata": {},
   "outputs": [],
   "source": [
    "samples = posterior.sample((10000,), x=observation)\n",
    "log_probability = posterior.log_prob(samples, x=observation)"
   ]
  },
  {
   "cell_type": "code",
   "execution_count": null,
   "id": "1d340d60",
   "metadata": {},
   "outputs": [],
   "source": [
    "c = ChainConsumer()\n",
    "c.add_chain(samples.cpu().detach().numpy(), parameters=[\"$\\Omega_c$\", \"$\\sigma_8$\"], name='SBI')\n",
    "\n",
    "fig = c.plotter.plot(figsize=\"column\", truth=fid_params)"
   ]
  },
  {
   "cell_type": "markdown",
   "id": "bec8200b",
   "metadata": {},
   "source": [
    "# backup idea"
   ]
  },
  {
   "cell_type": "markdown",
   "id": "305891ea",
   "metadata": {},
   "source": [
    "## Simulation\n",
    "\n",
    "BPZ --> photometry and redshifts\n",
    "\n",
    "distance function of any of the three point estimate statistics"
   ]
  },
  {
   "cell_type": "markdown",
   "id": "57839a6d",
   "metadata": {},
   "source": [
    "## Emulation\n",
    "\n",
    "pzflow --> photometry and redshifts\n",
    "\n",
    "distance function could be any of the "
   ]
  },
  {
   "cell_type": "markdown",
   "id": "683a8e21",
   "metadata": {},
   "source": [
    "## "
   ]
  },
  {
   "cell_type": "markdown",
   "id": "f8a8f65c",
   "metadata": {},
   "source": [
    "## LensingSimulator (currently broken)"
   ]
  },
  {
   "cell_type": "code",
   "execution_count": null,
   "id": "8f38fb1c",
   "metadata": {},
   "outputs": [],
   "source": []
  }
 ],
 "metadata": {
  "kernelspec": {
   "display_name": "DSFP (Python 3)",
   "language": "python",
   "name": "dsfp_3"
  },
  "language_info": {
   "codemirror_mode": {
    "name": "ipython",
    "version": 3
   },
   "file_extension": ".py",
   "mimetype": "text/x-python",
   "name": "python",
   "nbconvert_exporter": "python",
   "pygments_lexer": "ipython3",
   "version": "3.10.4"
  }
 },
 "nbformat": 4,
 "nbformat_minor": 5
}
